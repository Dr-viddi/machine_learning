{
 "cells": [
  {
   "cell_type": "markdown",
   "metadata": {},
   "source": [
    "# Outlier Detection With Autoencoders"
   ]
  },
  {
   "cell_type": "markdown",
   "metadata": {},
   "source": [
    "based on: https://towardsdatascience.com/outlier-detection-with-autoencoders-6c7ac3e2aa90"
   ]
  },
  {
   "cell_type": "markdown",
   "metadata": {},
   "source": [
    "<b> environment"
   ]
  },
  {
   "cell_type": "code",
   "execution_count": 2,
   "metadata": {},
   "outputs": [],
   "source": [
    "import tensorflow as tf\n",
    "import tensorflow.keras.layers as layers\n",
    "import pandas as pd\n",
    "import numpy as np\n",
    "import matplotlib.pyplot as plt"
   ]
  },
  {
   "cell_type": "markdown",
   "metadata": {},
   "source": [
    "<b> Define data"
   ]
  },
  {
   "cell_type": "code",
   "execution_count": null,
   "metadata": {},
   "outputs": [],
   "source": [
    "def trend(time, slope=0):\n",
    "    \"\"\"A trend over time\"\"\"\n",
    "    return slope * time\n",
    "\n",
    "def seasonal_pattern(season_time):\n",
    "    \"\"\"Arbitrary pattern\"\"\"\n",
    "    return np.where(season_time < 0.1,np.cos(season_time * 7 * np.pi),1 / np.exp(5 * season_time))\n",
    "\n",
    "def seasonality(time, period, amplitude=1, phase=0):\n",
    "    \"\"\"Repeats the same pattern at each period\"\"\"\n",
    "    season_time = ((time + phase) % period) / period\n",
    "    return amplitude * seasonal_pattern(season_time)\n",
    "\n",
    "def noise(time, noise_level=1, seed=None):\n",
    "    \"\"\"Adds noise to the series\"\"\"\n",
    "    rnd = np.random.RandomState(seed)\n",
    "    return rnd.randn(len(time)) * noise_level\n",
    "\n",
    "\n",
    "TIME = np.arange(4 * 365 + 1, dtype=\"float32\")\n",
    "\n",
    "y_intercept = 10\n",
    "slope = 0.01\n",
    "SERIES = trend(TIME, slope) + y_intercept\n",
    "\n",
    "amplitude = 40\n",
    "SERIES += seasonality(TIME, period=365, amplitude=amplitude)\n",
    "\n",
    "noise_level = 2\n",
    "SERIES += noise(TIME, noise_level, seed=42)\n",
    "\n",
    "plt.plot(TIME, SERIES)"
   ]
  },
  {
   "cell_type": "markdown",
   "metadata": {},
   "source": [
    "<b> Define outliers"
   ]
  },
  {
   "cell_type": "code",
   "execution_count": 7,
   "metadata": {},
   "outputs": [],
   "source": [
    "SERIES[500] = 100\n",
    "SERIES[1000] = -100"
   ]
  },
  {
   "cell_type": "markdown",
   "metadata": {},
   "source": [
    "<b> Plot data"
   ]
  },
  {
   "cell_type": "code",
   "execution_count": 11,
   "metadata": {},
   "outputs": [
    {
     "data": {
      "text/plain": [
       "<matplotlib.collections.PathCollection at 0x1a7185eb278>"
      ]
     },
     "execution_count": 11,
     "metadata": {},
     "output_type": "execute_result"
    },
    {
     "data": {
      "image/png": "[encoded data removed]",
      "text/plain": [
       "<Figure size 432x288 with 1 Axes>"
      ]
     },
     "metadata": {
      "needs_background": "light"
     },
     "output_type": "display_data"
    }
   ],
   "source": [
    "plt.scatter(TIME, SERIES)"
   ]
  },
  {
   "cell_type": "code",
   "execution_count": 14,
   "metadata": {},
   "outputs": [
    {
     "name": "stdout",
     "output_type": "stream",
     "text": [
      "batch_of_features has type: <class 'tensorflow.python.framework.ops.EagerTensor'>\n",
      "\n",
      "batch_of_labels has type: <class 'tensorflow.python.framework.ops.EagerTensor'>\n",
      "\n",
      "batch_of_features has shape: (5, 1)\n",
      "\n",
      "batch_of_labels has shape: (5,)\n",
      "\n"
     ]
    }
   ],
   "source": [
    "def train_val_split(time, series, time_step):\n",
    "    time_train = time[:time_step]\n",
    "    series_train = series[:time_step]\n",
    "    time_valid = time[time_step:]\n",
    "    series_valid = series[time_step:]\n",
    "    return time_train, series_train, time_valid, series_valid\n",
    "# Split the dataset\n",
    "\n",
    "def windowed_dataset(series, window_size, batch_size, shuffle_buffer):\n",
    "    ### START CODE HERE\n",
    "    # Create dataset from the series\n",
    "    dataset = tf.data.Dataset.from_tensor_slices(series)\n",
    "    # Slice the dataset into the appropriate windows\n",
    "    dataset = dataset.window(window_size+1, shift=1, drop_remainder=True)\n",
    "    # Flatten the dataset\n",
    "    dataset = dataset.flat_map(lambda window: window.batch(window_size+1))\n",
    "    # Shuffle it\n",
    "    dataset = dataset.shuffle(shuffle_buffer)\n",
    "    # Split it into the features and labels\n",
    "    dataset = dataset.map(lambda window: (window[:-1], window[-1]))\n",
    "    # Batch it\n",
    "    dataset = dataset.batch(batch_size).prefetch(1)\n",
    "    ### END CODE HERE\n",
    "    return dataset\n",
    "\n",
    "SPLIT_TIME = 1100\n",
    "WINDOW_SIZE = 20\n",
    "BATCH_SIZE = 32\n",
    "SHUFFLE_BUFFER_SIZE = 1000\n",
    "\n",
    "time_train, series_train, time_valid, series_valid = train_val_split(TIME, SERIES, SPLIT_TIME)\n",
    "test_dataset = windowed_dataset(series_train, window_size=1, batch_size=5, shuffle_buffer=1)"
   ]
  }
 ],
 "metadata": {
  "interpreter": {
   "hash": "1f7ce79a0ed0112609d94429386b1a5f19b066306b595d4fc2955b9d196375e1"
  },
  "kernelspec": {
   "display_name": "Python 3.6.13 ('ml_david')",
   "language": "python",
   "name": "python3"
  },
  "language_info": {
   "codemirror_mode": {
    "name": "ipython",
    "version": 3
   },
   "file_extension": ".py",
   "mimetype": "text/x-python",
   "name": "python",
   "nbconvert_exporter": "python",
   "pygments_lexer": "ipython3",
   "version": "3.6.13"
  },
  "orig_nbformat": 4
 },
 "nbformat": 4,
 "nbformat_minor": 2
}
