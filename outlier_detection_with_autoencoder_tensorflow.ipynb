{
 "cells": [
  {
   "cell_type": "markdown",
   "metadata": {},
   "source": [
    "# Outlier Detection With Autoencoders"
   ]
  },
  {
   "cell_type": "markdown",
   "metadata": {},
   "source": [
    "based on: https://towardsdatascience.com/outlier-detection-with-autoencoders-6c7ac3e2aa90"
   ]
  },
  {
   "cell_type": "markdown",
   "metadata": {},
   "source": [
    "<b> environment"
   ]
  },
  {
   "cell_type": "code",
   "execution_count": 2,
   "metadata": {},
   "outputs": [],
   "source": [
    "import tensorflow as tf\n",
    "import tensorflow.keras.layers as layers\n",
    "import pandas as pd\n",
    "import numpy as np\n",
    "import matplotlib.pyplot as plt"
   ]
  },
  {
   "cell_type": "markdown",
   "metadata": {},
   "source": [
    "<b> Define data"
   ]
  },
  {
   "cell_type": "code",
   "execution_count": null,
   "metadata": {},
   "outputs": [],
   "source": [
    "tf.random.set_seed(1234)\n",
    "t = tf.expand_dims(tf.linspace(0., 2*3.14, 1000), -1)\n",
    "noise = tf.random.normal((1000, 2), stddev=0.05)\n",
    "points = tf.concat([tf.cos(t), tf.sin(t)], axis=1) + noise"
   ]
  },
  {
   "cell_type": "markdown",
   "metadata": {},
   "source": [
    "<b> Define outlier"
   ]
  },
  {
   "cell_type": "code",
   "execution_count": null,
   "metadata": {},
   "outputs": [],
   "source": [
    "outliers = tf.constant([[0., 0.], [2., 2.]])\n",
    "points_with_outliers = tf.concat([points, outliers], axis=0)"
   ]
  },
  {
   "cell_type": "markdown",
   "metadata": {},
   "source": [
    "<b> Plot data"
   ]
  },
  {
   "cell_type": "code",
   "execution_count": null,
   "metadata": {},
   "outputs": [],
   "source": [
    "points_with_outliers = points_with_outliers.numpy()\n",
    "plt.scatter(points_with_outliers[:,0], points_with_outliers[:,1])"
   ]
  },
  {
   "cell_type": "markdown",
   "metadata": {},
   "source": [
    "<b> Define autoencoder model"
   ]
  },
  {
   "cell_type": "code",
   "execution_count": null,
   "metadata": {},
   "outputs": [],
   "source": [
    "encoder = tf.keras.Sequential([\n",
    "    layers.Dense(units=16, activation=\"relu\"),\n",
    "    layers.Dense(units=16, activation=\"relu\"),\n",
    "    layers.Dense(units=16, activation=\"relu\"),\n",
    "    layers.Dense(units=1)\n",
    "])\n",
    "\n",
    "decoder = tf.keras.Sequential([\n",
    "    layers.Dense(units=16, activation=\"relu\"),\n",
    "    layers.Dense(units=16, activation=\"relu\"),\n",
    "    layers.Dense(units=16, activation=\"relu\"),\n",
    "    layers.Dense(units=2)\n",
    "])\n",
    "autoencoder = tf.keras.Sequential([encoder,decoder])\n",
    "autoencoder.compile(loss=\"mse\")"
   ]
  },
  {
   "cell_type": "markdown",
   "metadata": {},
   "source": [
    "<b> Shuffle trainings data"
   ]
  },
  {
   "cell_type": "code",
   "execution_count": null,
   "metadata": {},
   "outputs": [],
   "source": [
    "shuffled_points = tf.random.shuffle(points)"
   ]
  },
  {
   "cell_type": "markdown",
   "metadata": {},
   "source": [
    "<b> Training (without outliers)"
   ]
  },
  {
   "cell_type": "code",
   "execution_count": null,
   "metadata": {},
   "outputs": [],
   "source": [
    "autoencoder.fit(\n",
    "    x=shuffled_points,\n",
    "    y=shuffled_points,\n",
    "    validation_split=0.2,\n",
    "    epochs=500\n",
    ")"
   ]
  },
  {
   "cell_type": "markdown",
   "metadata": {},
   "source": [
    "<b> Inference (Reconstruct points with outliers)"
   ]
  },
  {
   "cell_type": "code",
   "execution_count": null,
   "metadata": {},
   "outputs": [],
   "source": [
    "reconstructed_points = autoencoder(points_with_outliers)"
   ]
  },
  {
   "cell_type": "markdown",
   "metadata": {},
   "source": [
    "<b> Plot reconstructed points"
   ]
  },
  {
   "cell_type": "code",
   "execution_count": null,
   "metadata": {},
   "outputs": [],
   "source": [
    "fig = plt.figure()\n",
    "ax1 = fig.add_subplot(111)\n",
    "\n",
    "ax1.scatter(points_with_outliers[:,0], points_with_outliers[:,1], s=10, c='b', marker=\"s\", label='original data with outlier')\n",
    "ax1.scatter(reconstructed_points[:,0], reconstructed_points[:,1], s=10, c='r', marker=\"o\", label='autoencoder')\n",
    "plt.legend(loc='upper left')\n",
    "plt.show()"
   ]
  },
  {
   "cell_type": "markdown",
   "metadata": {},
   "source": [
    "<b> Reconstruction error"
   ]
  },
  {
   "cell_type": "markdown",
   "metadata": {},
   "source": [
    "Autoencoder puts all points (including outliers) on the circle. Thus non-outliers should have a small reconstruction error whereas outliers should have a huge reconstruction error"
   ]
  },
  {
   "cell_type": "code",
   "execution_count": null,
   "metadata": {},
   "outputs": [],
   "source": [
    "reconstruction_errors = tf.reduce_sum((autoencoder(points_with_outliers) - points_with_outliers)**2, axis=1)\n",
    "\n",
    "pd.DataFrame({\n",
    "    \"x\": points_with_outliers[:, 0],\n",
    "    \"y\": points_with_outliers[:, 1],\n",
    "    \"reconstruction_error\": reconstruction_errors\n",
    "})"
   ]
  }
 ],
 "metadata": {
  "interpreter": {
   "hash": "1f7ce79a0ed0112609d94429386b1a5f19b066306b595d4fc2955b9d196375e1"
  },
  "kernelspec": {
   "display_name": "Python 3.6.13 ('ml_david')",
   "language": "python",
   "name": "python3"
  },
  "language_info": {
   "codemirror_mode": {
    "name": "ipython",
    "version": 3
   },
   "file_extension": ".py",
   "mimetype": "text/x-python",
   "name": "python",
   "nbconvert_exporter": "python",
   "pygments_lexer": "ipython3",
   "version": "3.6.13"
  },
  "orig_nbformat": 4
 },
 "nbformat": 4,
 "nbformat_minor": 2
}
